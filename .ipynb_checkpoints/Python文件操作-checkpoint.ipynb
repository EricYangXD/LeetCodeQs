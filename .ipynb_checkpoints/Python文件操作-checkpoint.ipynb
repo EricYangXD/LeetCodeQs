{
 "cells": [
  {
   "cell_type": "markdown",
   "metadata": {},
   "source": [
    "### Python文件操作###"
   ]
  },
  {
   "cell_type": "code",
   "execution_count": 3,
   "metadata": {
    "collapsed": true
   },
   "outputs": [],
   "source": [
    "# 文件打开方法 open(name,mode[buf]) name:文件名， mode:打开方式， buf:缓冲buffing大小\n",
    "\n",
    "# r 只读 r+ 读写 文件必须存在\n",
    "# w 只写 w+ 读写 文件不存在就创建新文件，若存在就清空原文件重新写入\n",
    "# a 追加方式打开 a+ 追加和读写方式打开 文件不存在就创建新文件\n",
    "# rb wb ab rb+ wb+ ab+ 二进制方式打开\n",
    "\n",
    "#文件读取方式 read([size])  size:读取的字节数\n",
    "#文件读取方式 readline([size])\n",
    "#文件读取方式 readlines([size]) 不推荐读取大文件\n",
    "# iter() 迭代器，可以读取比较大的文件，大小超过缓冲buf的文件\n",
    "\n",
    "#文件写入方式 write(size) 写入字符串到文件\n",
    "#文件写入方式 writelines(sequence_of_strings) 写入多行\n"
   ]
  },
  {
   "cell_type": "code",
   "execution_count": 24,
   "metadata": {},
   "outputs": [
    {
     "name": "stdout",
     "output_type": "stream",
     "text": [
      "<type 'file'>\n"
     ]
    }
   ],
   "source": [
    "openFile=open('leetcode17.ipynb')\n",
    "print(type(openFile))\n",
    "leetcode17=openFile.read()\n",
    "# leetcode17\n",
    "# cat leetcode17.ipynb\n",
    "# File=open()\n",
    "File=open(\"leetcode18.py\",\"w+\")\n",
    "\n"
   ]
  },
  {
   "cell_type": "code",
   "execution_count": null,
   "metadata": {
    "collapsed": true
   },
   "outputs": [],
   "source": [
    "# http://service.weibo.com/share/share.php?title=%23%E5%BF%85%E5%BA%94%E7%BE%8E%E5%9B%BE%23%E5%B7%B4%E7%89%B9%E8%8E%B1%E5%85%8B%E7%9F%BF%E5%9C%BA%E4%BD%8D%E4%BA%8E%E8%8B%B1%E6%A0%BC%E5%85%B0%E8%A5%BF%E5%8D%97%E9%83%A8%EF%BC%8C%E5%AE%83%E6%98%AF%E8%8B%B1%E5%9B%BD%E2%80%9C%E9%94%A1%E6%B5%B7%E5%B2%B8%E2%80%9D%E7%9A%84%E4%B8%80%E9%83%A8%E5%88%86%EF%BC%8C%E6%9B%BE%E7%BB%8F%E6%98%AF%E4%B8%80%E5%A4%84%E6%B5%B7%E5%BA%95%E7%9F%BF%E4%BA%95%EF%BC%8C%E5%9C%B0%E4%B8%8B%E6%B7%B1%E5%A4%84%E6%9C%89%E9%9A%A7%E9%81%93%EF%BC%8C%E7%9F%BF%E5%B7%A5%E4%BB%AC%E5%9C%A8%E8%BF%99%E9%87%8C%E5%8F%AF%E4%BB%A5%E9%87%87%E9%9B%86%E5%88%B0%E9%94%A1%E3%80%81%E7%A0%B7%E5%92%8C%E9%93%9C%E3%80%821895%E5%B9%B4%E9%87%87%E7%9F%BF%E8%A2%AB%E4%B8%AD%E6%96%AD%EF%BC%8C%E4%BD%86%E6%82%AC%E5%B4%96%E4%BD%9C%E4%B8%BA%E5%BA%B7%E6%B2%83%E5%B0%94%E9%83%A1%E5%92%8C%E8%A5%BF%E5%BE%B7%E6%96%87%E9%83%A1%E7%9F%BF%E5%8C%BA%E7%9A%84%E4%B8%80%E9%83%A8%E5%88%86%E8%A2%AB%E4%BF%9D%E6%8A%A4%E4%BA%86%E8%B5%B7%E6%9D%A5%EF%BC%8C%E5%B9%B6%E6%88%90%E4%B8%BA%E6%95%99%E7%A7%91%E6%96%87%E7%BB%84%E7%BB%87%E5%85%AC%E8%AE%A4%E7%9A%84%E4%B8%96%E7%95%8C%E9%81%97%E4%BA%A7%E3%80%82&placeholder=%E5%BF%85%E5%BA%94%E7%BE%8E%E5%9B%BE&url=http%3A%2F%2Fcn.bing.com%2F%3Fform%3DHPSWCN&pic=https%3A%2F%2Fhpimges.blob.core.chinacloudapi.cn%2Fcoverstory%2Fwatermark_batearedfox_zh-cn12456670113_1920x1080.jpg#_loginLayer_1503905576471"
   ]
  },
  {
   "cell_type": "code",
   "execution_count": 39,
   "metadata": {
    "collapsed": true
   },
   "outputs": [],
   "source": [
    "f=open('weibo.txt','w+')\n",
    "# f.readline()\n",
    "# cat weibo.txt\n",
    "for i in range(10000):\n",
    "    f.write('test write '+ str(i)+'\\n')\n",
    "# f.write(\"test write\")\n",
    "f.close()\n"
   ]
  },
  {
   "cell_type": "code",
   "execution_count": 65,
   "metadata": {
    "collapsed": true
   },
   "outputs": [],
   "source": [
    "# Python文件指针\n",
    "# seek(offset,[whence])移动文件指针  offset:偏移量 负数表示向前移动，不能超过总的长度  偏移相对位置  whence:偏移相对位置\n",
    "# tell() 返回当前指针位置\n",
    "# Python文件指针定位方式\n",
    "# os.SEEK_SET 相对文件起始位置 0\n",
    "# os.SEEK_CUR 相对文件当前位置 1\n",
    "# os.SEEK_END 相对文件结尾位置 2\n",
    "import os\n",
    "f=open('weibo.txt','r')\n",
    "f.read(3)\n",
    "# f.tell()\n",
    "f.seek(0,os.SEEK_SET)\n",
    "f.tell()\n",
    "f.seek(0,os.SEEK_END)\n",
    "f.tell()\n",
    "f.read()\n",
    "f.seek(-15,os.SEEK_CUR)\n",
    "f.tell()\n",
    "f.seek(-168875,os.SEEK_CUR)\n",
    "f.tell()\n",
    "# f.read()\n",
    "f.close()\n",
    "# f.closed()"
   ]
  },
  {
   "cell_type": "markdown",
   "metadata": {},
   "source": [
    "### 文件属性编码模式 ###"
   ]
  },
  {
   "cell_type": "code",
   "execution_count": null,
   "metadata": {
    "collapsed": true
   },
   "outputs": [],
   "source": [
    "# file.fileno()：表示文件描述符\n",
    "# file.mode:文件打开权限\n",
    "# file.encoding:文件编码格式\n",
    "# file.closed:文件是否关闭\n",
    "\n",
    "\n"
   ]
  },
  {
   "cell_type": "code",
   "execution_count": 9,
   "metadata": {},
   "outputs": [
    {
     "data": {
      "text/plain": [
       "'\\xe6\\x85\\x95\\xe8\\xaf\\xbe\\xe7\\xbd\\x91\\xe8\\xa7\\x86\\xe9\\xa2\\x91\\xe6\\x95\\x99\\xe7\\xa8\\x8b'"
      ]
     },
     "execution_count": 9,
     "metadata": {},
     "output_type": "execute_result"
    }
   ],
   "source": [
    "import sys\n",
    "type(sys.stdin)\n",
    "# f.closed()\n",
    "# sys.stdin.mode\n",
    "# sys.stdin.fileno()\n",
    "\n",
    "# a=raw_input(\":\")\n",
    "# sys.stdin.mode\n",
    "# sys.stdout.write(\"9999\")\n",
    "\n",
    "# sys.stderr.mode\n",
    "\n",
    "# sys.argv  #命令行参数\n",
    "\n",
    "a=unicode.encode(u'慕课网视频教程','utf-8')\n",
    "a"
   ]
  },
  {
   "cell_type": "code",
   "execution_count": 19,
   "metadata": {},
   "outputs": [],
   "source": [
    "import codecs\n",
    "f=codecs.open('weibo.txt','r+','utf-8')\n",
    "f.encoding\n",
    "f.write(u'慕课')\n",
    "f.close()\n"
   ]
  },
  {
   "cell_type": "markdown",
   "metadata": {},
   "source": [
    "### 使用os模块打开文件 ###"
   ]
  },
  {
   "cell_type": "code",
   "execution_count": 31,
   "metadata": {},
   "outputs": [
    {
     "data": {
      "text/plain": [
       "'imooc'"
      ]
     },
     "execution_count": 31,
     "metadata": {},
     "output_type": "execute_result"
    }
   ],
   "source": [
    "# os.open(filenname,flag,[mode]) 打开文件\n",
    "# flag:文件打开方式  flag值：如下\n",
    "# os.O_RDONLY\n",
    "# os.O_WRONLY\n",
    "# os.O_RDWR\n",
    "# os.O_CREAT\n",
    "# os.read(fd,buffersize)  fd:文件描述符  \n",
    "# os.write(fd,buffersize)\n",
    "# os.lseek(fd,pos,how)\n",
    "# os下还有很多方法，如下：\n",
    "# access(path,mode)   权限是否存在：F_OK,R_OK,W_OK,X_OK\n",
    "# listdir(path)\n",
    "# remove(path)\n",
    "# rename(old,new)\n",
    "# mkdir(path,mode)\n",
    "# makedirs(path,mode)\n",
    "# removedirs(path)\n",
    "# rmdir(path)\n",
    "# \n",
    "# \n",
    "# \n",
    "\n",
    "import os\n",
    "fd=os.open('imooc.txt',os.O_CREAT|os.O_RDWR)\n",
    "n=os.write(fd,'imooc')\n",
    "l=os.lseek(fd,0,os.SEEK_SET) #返回指针当前所在位置\n",
    "str1=os.read(fd,5) #返回从当前指针位置读取的结果\n",
    "str1\n",
    "\n",
    "\n"
   ]
  },
  {
   "cell_type": "code",
   "execution_count": 33,
   "metadata": {},
   "outputs": [],
   "source": [
    "import ConfigParser\n",
    "\n",
    "\n"
   ]
  }
 ],
 "metadata": {
  "kernelspec": {
   "display_name": "Python 2",
   "language": "python",
   "name": "python2"
  },
  "language_info": {
   "codemirror_mode": {
    "name": "ipython",
    "version": 2
   },
   "file_extension": ".py",
   "mimetype": "text/x-python",
   "name": "python",
   "nbconvert_exporter": "python",
   "pygments_lexer": "ipython2",
   "version": "2.7.13"
  }
 },
 "nbformat": 4,
 "nbformat_minor": 2
}
