{
 "cells": [
  {
   "cell_type": "code",
   "execution_count": 2,
   "metadata": {},
   "outputs": [],
   "source": [
    "class Soultion(object):\n",
    "    def letterCombinations(self,digits):\n",
    "        dict={\"2\":\"abc\",\"3\":\"def\",\"4\":\"ghi\",\"5\":\"jkl\",\"6\":\"mno\",\"7\":\"pqrs\",\"8\":\"tuv\",\"9\":\"wxyz\"}\n",
    "        if 0==len(digits): return []\n",
    "        if 1==len(digits): return list(dict[digits[0]])\n",
    "        prev = self.letterCombinations(digits[:-1])\n",
    "        additional = mapping[digits[-1]]\n",
    "        return [s + c for s in prev for c in additional]\n",
    "#         result=[\"\"]\n",
    "#         for digit in digits:\n",
    "#             tmp=[]\n",
    "#             for ch in dict[int(digit)]:\n",
    "#                 tmp+=[element+ch for element in result]\n",
    "#             result=tmp[:]\n",
    "#         return result\n",
    "# letterCombinations(self,34)"
   ]
  },
  {
   "cell_type": "code",
   "execution_count": 10,
   "metadata": {
    "collapsed": true
   },
   "outputs": [],
   "source": [
    "class Soultion(object):\n",
    "    def letterCombinations(self,digits):        \n",
    "        self.dict = {\"1\":\"\", \"2\":\"abc\", \"3\":\"def\", \"4\":\"ghi\", \"5\":\"jkl\", \"6\":\"mno\", \"7\":\"pqrs\",\"8\":\"tuv\",\"9\":\"wxyz\",\"10\":\" \"}\n",
    "        result = [\"\"]\n",
    "        for digit in digits:\n",
    "            lst = self.dict[digit]\n",
    "            newresult = []\n",
    "            for char in lst:\n",
    "                for str in result:\n",
    "                    newresult.append(str+char)\n",
    "            result = newresult\n",
    "        return result"
   ]
  },
  {
   "cell_type": "code",
   "execution_count": null,
   "metadata": {
    "collapsed": true
   },
   "outputs": [],
   "source": []
  }
 ],
 "metadata": {
  "kernelspec": {
   "display_name": "Python 2",
   "language": "python",
   "name": "python2"
  },
  "language_info": {
   "codemirror_mode": {
    "name": "ipython",
    "version": 2
   },
   "file_extension": ".py",
   "mimetype": "text/x-python",
   "name": "python",
   "nbconvert_exporter": "python",
   "pygments_lexer": "ipython2",
   "version": "2.7.13"
  }
 },
 "nbformat": 4,
 "nbformat_minor": 2
}
