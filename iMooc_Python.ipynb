{
 "cells": [
  {
   "cell_type": "code",
   "execution_count": 3,
   "metadata": {},
   "outputs": [
    {
     "name": "stdout",
     "output_type": "stream",
     "text": [
      "callf1()\n",
      "8\n"
     ]
    }
   ],
   "source": [
    "# def f1(x):\n",
    "#     return x*2\n",
    "# def new_fn(f):\n",
    "#     def fn(x):\n",
    "#         print 'call'+f.__name__+'()'\n",
    "#         return f(x)\n",
    "#     return fn\n",
    "# f1=new_fn(f1)\n",
    "# print f1(4)"
   ]
  },
  {
   "cell_type": "code",
   "execution_count": 16,
   "metadata": {},
   "outputs": [
    {
     "name": "stdout",
     "output_type": "stream",
     "text": [
      "callf1()\n"
     ]
    },
    {
     "data": {
      "text/plain": [
       "8"
      ]
     },
     "execution_count": 16,
     "metadata": {},
     "output_type": "execute_result"
    }
   ],
   "source": [
    "@new_fn\n",
    "def f1(x):\n",
    "    return x*2\n",
    "\n",
    "def new_fn(f):\n",
    "    def fn(x):\n",
    "        print 'call %s'+f.__name__+'()'\n",
    "        return f(x)\n",
    "    return fn\n",
    "\n",
    "f1(4)"
   ]
  },
  {
   "cell_type": "code",
   "execution_count": 19,
   "metadata": {},
   "outputs": [
    {
     "name": "stdout",
     "output_type": "stream",
     "text": [
      "call now():\n",
      "2013-12-25\n"
     ]
    }
   ],
   "source": [
    "# 把@log放到now()函数的定义处，相当于执行了语句：\n",
    "# now = log(now)\n",
    "# 由于log()是一个decorator，返回一个函数，所以，原来的now()函数仍然存在，只是现在同名的now变量指向了新的函数，于是调用now()将执行新函数，即在log()函数中返回的wrapper()函数。\n",
    "# wrapper()函数的参数定义是(*args, **kw)，因此，wrapper()函数可以接受任意参数的调用。在wrapper()函数内，首先打印日志，再紧接着调用原始函数。\n",
    "#实质就是写一个高阶函数，返回新的函数，只不过函数名还是用原来的\n",
    "\n",
    "def log(func):\n",
    "    def wrapper(*args, **kw):\n",
    "        print 'call %s():' % func.__name__\n",
    "        return func(*args, **kw)\n",
    "    return wrapper\n",
    "\n",
    "@log\n",
    "def now():\n",
    "    print '2013-12-25'\n",
    "\n",
    "# @performance\n",
    "f=now()"
   ]
  },
  {
   "cell_type": "code",
   "execution_count": 21,
   "metadata": {},
   "outputs": [
    {
     "name": "stdout",
     "output_type": "stream",
     "text": [
      "call factorial() in 0.000000s\n",
      "3628800\n"
     ]
    }
   ],
   "source": [
    "# 计算函数调用的时间差\n",
    "\n",
    "import time\n",
    "def performance(f):\n",
    "    def fn(*args, **kw):\n",
    "        t1 = time.time()\n",
    "        r = f(*args, **kw)\n",
    "        t2 = time.time()\n",
    "        print 'call %s() in %fs' % (f.__name__, (t2 - t1))\n",
    "        return r\n",
    "    return fn\n",
    "\n",
    "@performance\n",
    "def factorial(n):\n",
    "    return reduce(lambda x,y: x*y, range(1, n+1))\n",
    "print factorial(10)"
   ]
  },
  {
   "cell_type": "code",
   "execution_count": 23,
   "metadata": {},
   "outputs": [
    {
     "name": "stdout",
     "output_type": "stream",
     "text": [
      "call factorial() in 0.000000 ms\n",
      "3628800\n"
     ]
    }
   ],
   "source": [
    "import time\n",
    "def performance(prefix):\n",
    "    def log_decorator(f):\n",
    "        def fn(*args, **kw):\n",
    "            t1 = time.time()\n",
    "            r = f(*args, **kw)\n",
    "            t2 = time.time()\n",
    "            t=(t2 - t1)*1000 if prefix=='ms' else (t2 - t1)\n",
    "            print 'call %s() in %f %s' % (f.__name__,t,prefix)\n",
    "            return r\n",
    "        return fn\n",
    "    return log_decorator\n",
    "    \n",
    "@performance('ms')\n",
    "def factorial(n):\n",
    "    return reduce(lambda x,y: x*y, range(1, n+1))\n",
    "print factorial(10)"
   ]
  },
  {
   "cell_type": "code",
   "execution_count": 25,
   "metadata": {},
   "outputs": [
    {
     "name": "stdout",
     "output_type": "stream",
     "text": [
      "call factorial() in 0.000000 ms\n",
      "factorial\n"
     ]
    }
   ],
   "source": [
    "import time, functools\n",
    "def performance(unit):\n",
    "    def perf_decorator(f):\n",
    "        @functools.wraps(f)\n",
    "        def wrapper(*args, **kw):\n",
    "            t1 = time.time()\n",
    "            r = f(*args, **kw)\n",
    "            t2 = time.time()\n",
    "            t = (t2 - t1) * 1000 if unit=='ms' else (t2 - t1)\n",
    "            print 'call %s() in %f %s' % (f.__name__, t, unit)\n",
    "            return r\n",
    "        return wrapper\n",
    "    return perf_decorator\n",
    "\n",
    "@performance('ms')\n",
    "def factorial(n):\n",
    "    return reduce(lambda x,y: x*y, range(1, n+1))\n",
    "    \n",
    "factorial(800)\n",
    "print factorial.__name__"
   ]
  },
  {
   "cell_type": "code",
   "execution_count": 27,
   "metadata": {},
   "outputs": [
    {
     "name": "stdout",
     "output_type": "stream",
     "text": [
      "['about', 'bob', 'Credit', 'Zoo']\n"
     ]
    }
   ],
   "source": [
    "import functools\n",
    "\n",
    "sorted_ignore_case = functools.partial(sorted, cmp=lambda s1, s2: cmp(s1.upper(), s2.upper()))\n",
    "\n",
    "print sorted_ignore_case(['bob', 'about', 'Zoo', 'Credit'])"
   ]
  },
  {
   "cell_type": "code",
   "execution_count": 29,
   "metadata": {},
   "outputs": [
    {
     "name": "stdout",
     "output_type": "stream",
     "text": [
      "True\n",
      "True\n"
     ]
    }
   ],
   "source": [
    "import os\n",
    "print os.path.isdir(r'C:\\Windows')\n",
    "print os.path.isfile(r'C:\\Windows\\notepad.exe')"
   ]
  },
  {
   "cell_type": "code",
   "execution_count": 32,
   "metadata": {},
   "outputs": [
    {
     "name": "stdout",
     "output_type": "stream",
     "text": [
      "{\"python\": 2.7, \"jupyter\": 3.6}\n"
     ]
    }
   ],
   "source": [
    "try:\n",
    "    import json\n",
    "except ImportError:\n",
    "    import simplejson\n",
    "\n",
    "print json.dumps({'python':2.7,'jupyter':3.6})"
   ]
  },
  {
   "cell_type": "code",
   "execution_count": 34,
   "metadata": {},
   "outputs": [
    {
     "name": "stdout",
     "output_type": "stream",
     "text": [
      "True\n"
     ]
    }
   ],
   "source": [
    "from __future__ import unicode_literals\n",
    "\n",
    "s = 'am I an unicode?'\n",
    "print isinstance(s, unicode)"
   ]
  },
  {
   "cell_type": "code",
   "execution_count": 38,
   "metadata": {},
   "outputs": [
    {
     "name": "stdout",
     "output_type": "stream",
     "text": [
      "Lisa Simpson: 87\n"
     ]
    }
   ],
   "source": [
    "class Student(object):\n",
    "\n",
    "    def __init__(self, name, score):\n",
    "        self.name = name\n",
    "        self.score = score\n",
    "\n",
    "    def print_score(self):\n",
    "        print('%s: %s' % (self.name, self.score))\n",
    "        \n",
    "lisa = Student('Lisa Simpson', 87)        \n",
    "lisa.print_score()"
   ]
  },
  {
   "cell_type": "code",
   "execution_count": 40,
   "metadata": {},
   "outputs": [
    {
     "name": "stdout",
     "output_type": "stream",
     "text": [
      "Xiao Ming\n",
      "Student\n",
      "TJU\n"
     ]
    }
   ],
   "source": [
    "class Person(object):\n",
    "    def __init__(self,name,gender,birth,**kw):\n",
    "        self.name = name\n",
    "        self.gender = gender\n",
    "        self.birth = birth\n",
    "        for k,v in kw.iteritems():\n",
    "            setattr(self,k,v)\n",
    "\n",
    "xiaoming = Person('Xiao Ming', 'Male', '1990-1-1', job='Student',collage='TJU')\n",
    "\n",
    "print xiaoming.name\n",
    "print xiaoming.job\n",
    "print xiaoming.collage"
   ]
  },
  {
   "cell_type": "markdown",
   "metadata": {},
   "source": [
    "### python中访问限制 ###\n",
    "- Python对属性权限的控制是通过属性名来实现的，如果一个属性由双下划线开头(__)，该属性就无法被外部访问。\n",
    "- 只有以双下划线开头的\"__xxx\"不能直接被外部访问。\n",
    "- 但是，如果一个属性以\"__xxx__\"的形式定义，那它又可以被外部访问了，以\"__xxx__\"定义的属性在Python的类中被称为特殊属性，有很多预定义的特殊属性可以使用，通常我们不要把普通属性用\"__xxx__\"定义。\n",
    "- 以单下划线开头的属性\"_xxx\"虽然也可以被外部访问，但是，按照习惯，他们不应该被外部访问。"
   ]
  },
  {
   "cell_type": "code",
   "execution_count": 42,
   "metadata": {},
   "outputs": [
    {
     "name": "stdout",
     "output_type": "stream",
     "text": [
      "Bob\n"
     ]
    },
    {
     "ename": "AttributeError",
     "evalue": "'Person' object has no attribute '__score'",
     "output_type": "error",
     "traceback": [
      "\u001b[1;31m---------------------------------------------------------------------------\u001b[0m",
      "\u001b[1;31mAttributeError\u001b[0m                            Traceback (most recent call last)",
      "\u001b[1;32m<ipython-input-42-8a8b30316c32>\u001b[0m in \u001b[0;36m<module>\u001b[1;34m()\u001b[0m\n\u001b[0;32m      7\u001b[0m \u001b[1;33m\u001b[0m\u001b[0m\n\u001b[0;32m      8\u001b[0m \u001b[1;32mprint\u001b[0m \u001b[0mp\u001b[0m\u001b[1;33m.\u001b[0m\u001b[0mname\u001b[0m\u001b[1;33m\u001b[0m\u001b[0m\n\u001b[1;32m----> 9\u001b[1;33m \u001b[1;32mprint\u001b[0m \u001b[0mp\u001b[0m\u001b[1;33m.\u001b[0m\u001b[0m__score\u001b[0m\u001b[1;33m\u001b[0m\u001b[0m\n\u001b[0m",
      "\u001b[1;31mAttributeError\u001b[0m: 'Person' object has no attribute '__score'"
     ]
    }
   ],
   "source": [
    "class Person(object):\n",
    "    def __init__(self, name, score):\n",
    "        self.name=name\n",
    "        self.__score=score\n",
    "\n",
    "p = Person('Bob', 59)\n",
    "\n",
    "print p.name\n",
    "print p.__score"
   ]
  },
  {
   "cell_type": "code",
   "execution_count": 46,
   "metadata": {},
   "outputs": [
    {
     "name": "stdout",
     "output_type": "stream",
     "text": [
      "1\n",
      "2\n"
     ]
    },
    {
     "ename": "AttributeError",
     "evalue": "type object 'Person' has no attribute '__count'",
     "output_type": "error",
     "traceback": [
      "\u001b[1;31m---------------------------------------------------------------------------\u001b[0m",
      "\u001b[1;31mAttributeError\u001b[0m                            Traceback (most recent call last)",
      "\u001b[1;32m<ipython-input-46-c16b45d8932f>\u001b[0m in \u001b[0;36m<module>\u001b[1;34m()\u001b[0m\n\u001b[0;32m     11\u001b[0m \u001b[0mp2\u001b[0m \u001b[1;33m=\u001b[0m \u001b[0mPerson\u001b[0m\u001b[1;33m(\u001b[0m\u001b[1;34m'Alice'\u001b[0m\u001b[1;33m)\u001b[0m\u001b[1;33m\u001b[0m\u001b[0m\n\u001b[0;32m     12\u001b[0m \u001b[1;33m\u001b[0m\u001b[0m\n\u001b[1;32m---> 13\u001b[1;33m \u001b[1;32mprint\u001b[0m \u001b[0mPerson\u001b[0m\u001b[1;33m.\u001b[0m\u001b[0m__count\u001b[0m\u001b[1;33m\u001b[0m\u001b[0m\n\u001b[0m",
      "\u001b[1;31mAttributeError\u001b[0m: type object 'Person' has no attribute '__count'"
     ]
    }
   ],
   "source": [
    "class Person(object):\n",
    "\n",
    "    __count = 0\n",
    "\n",
    "    def __init__(self, name):\n",
    "        Person.__count=Person.__count+1\n",
    "        self.name=name\n",
    "        print Person.__count\n",
    "\n",
    "p1 = Person('Bob')\n",
    "p2 = Person('Alice')\n",
    "\n",
    "print Person.__count"
   ]
  },
  {
   "cell_type": "code",
   "execution_count": 50,
   "metadata": {},
   "outputs": [
    {
     "name": "stdout",
     "output_type": "stream",
     "text": [
      "Bob: A-优秀\n",
      "Alice: B-及格 \n",
      "Tim: C-不及格\n"
     ]
    }
   ],
   "source": [
    "class Person(object):\n",
    "    __score=0\n",
    "    def __init__(self, name, score):\n",
    "        self.__name=name\n",
    "        self.__score=score\n",
    "\n",
    "    def get_grade(self):\n",
    "        if self.__score >= 80:\n",
    "            return self.__name+': A-优秀'\n",
    "        if self.__score >= 60:\n",
    "            return self.__name+': B-及格 '\n",
    "        return self.__name+': C-不及格'\n",
    "\n",
    "p1 = Person('Bob', 90)\n",
    "p2 = Person('Alice', 65)\n",
    "p3 = Person('Tim', 48)\n",
    "\n",
    "print p1.get_grade()\n",
    "print p2.get_grade()\n",
    "print p3.get_grade()"
   ]
  },
  {
   "cell_type": "code",
   "execution_count": 59,
   "metadata": {},
   "outputs": [
    {
     "name": "stdout",
     "output_type": "stream",
     "text": [
      "0\n",
      "1\n"
     ]
    }
   ],
   "source": [
    "class Person(object):\n",
    "    __count = 0\n",
    "    @classmethod\n",
    "    def how_many(cls):\n",
    "        return cls.__count\n",
    "    def __init__(self,name):\n",
    "        self.name = name\n",
    "        Person.__count = Person.__count + 1\n",
    "        \n",
    "print Person.how_many()\n",
    "p1 = Person('Bob')\n",
    "print Person.how_many()\n",
    "\n",
    "# class Person(object):\n",
    "#     __count = 0\n",
    "#     @classmethod\n",
    "#     def how_many(cls):\n",
    "#         return cls.__count\n",
    "#     def __init__(self, name):\n",
    "#         self.name = name\n",
    "#         Person.__count = Person.__count + 1\n",
    "\n",
    "# print Person.how_many()\n",
    "# p1 = Person('Bob')\n",
    "# print Person.how_many()"
   ]
  },
  {
   "cell_type": "code",
   "execution_count": 2,
   "metadata": {},
   "outputs": [
    {
     "name": "stdout",
     "output_type": "stream",
     "text": [
      "Amily: 89\n"
     ]
    },
    {
     "data": {
      "text/plain": [
       "<bound method Student.info of <__main__.Student object at 0x02E05190>>"
      ]
     },
     "execution_count": 2,
     "metadata": {},
     "output_type": "execute_result"
    }
   ],
   "source": [
    "class Person(object):\n",
    "    def __init__(self, name, score):\n",
    "        self.name = name\n",
    "        self.score=score\n",
    "        \n",
    "    def info(self):\n",
    "        print('%s: %s' % (self.name, self.score))\n",
    "        \n",
    "#继承            \n",
    "class Student(Person):\n",
    "    def __init__(self,name,score,gender,age,clas):\n",
    "        super(Student,self).__init__(name, score)\n",
    "        self.gender=gender\n",
    "        self.age=age\n",
    "        self.clas=clas\n",
    "            \n",
    "    def info1(self):\n",
    "        print('%s: %s - %s - %s - %s' % (self.name, self.score, self.gender, self.age, self.clas))\n",
    "\n",
    "S1=Student(\"Amily\",89,\"Female\",22,\"A\")\n",
    "S1.info()\n",
    "S1.info\n"
   ]
  },
  {
   "cell_type": "code",
   "execution_count": 1,
   "metadata": {},
   "outputs": [
    {
     "name": "stdout",
     "output_type": "stream",
     "text": [
      "18\n",
      "Python\n"
     ]
    }
   ],
   "source": [
    "class Person(object):\n",
    "\n",
    "    def __init__(self, name, gender, **kw):\n",
    "        for k, v in kw.iteritems():\n",
    "            setattr(self, k, v)\n",
    "\n",
    "p = Person('Bob', 'Male', age=18, course='Python')\n",
    "print p.age\n",
    "print p.course"
   ]
  },
  {
   "cell_type": "code",
   "execution_count": 5,
   "metadata": {},
   "outputs": [
    {
     "name": "stdout",
     "output_type": "stream",
     "text": [
      "(Student: bob, male, 88)\n",
      "<bound method Student.cout of <__main__.Student object at 0x02E057D0>>\n",
      "(Student: asd, female)\n",
      "<bound method Person.cout of <__main__.Person object at 0x02E057B0>>\n"
     ]
    }
   ],
   "source": [
    "#如果要把一个类的实例变成 str，就需要实现特殊方法__str__()：\n",
    "#比如说：一个类中有info()方法，实例化一个S1,当我们调用S1.info时，其实质就是调用：S1.info.__str__();\n",
    "#返回的是类似这种：<bound method Student.info of <__main__.Student object at 0x02E05190>>\n",
    "#Python 定义了__str__()和__repr__()两种方法，__str__()用于显示给用户，而__repr__()用于显示给开发人员。\n",
    "class Person(object):\n",
    "\n",
    "    def __init__(self, name, gender):\n",
    "        self.name = name\n",
    "        self.gender = gender\n",
    "    def cout(self):\n",
    "        return '(Student: %s, %s)' % (self.name, self.gender)\n",
    "\n",
    "class Student(Person):\n",
    "\n",
    "    def __init__(self, name, gender, score):\n",
    "        super(Student, self).__init__(name, gender)\n",
    "        self.score = score\n",
    "\n",
    "    def __str__(self):\n",
    "        return '(Student: %s, %s, %s)' % (self.name, self.gender,self.score)\n",
    "        __repr__=__str__\n",
    "\n",
    "s = Student('bob', 'male', 88)\n",
    "p = Person('asd', 'female')\n",
    "print s\n",
    "print s.cout\n",
    "print p.cout()\n",
    "print p.cout"
   ]
  },
  {
   "cell_type": "code",
   "execution_count": 7,
   "metadata": {},
   "outputs": [
    {
     "name": "stdout",
     "output_type": "stream",
     "text": [
      "[(Alice: 99), (Tim: 99), (Bob: 88)]\n"
     ]
    }
   ],
   "source": [
    "#排序函数，cmp和sorted\n",
    "class Student(object):\n",
    "\n",
    "    def __init__(self, name, score):\n",
    "        self.name = name\n",
    "        self.score = score\n",
    "\n",
    "    def __str__(self):\n",
    "        return '(%s: %s)' % (self.name, self.score)\n",
    "\n",
    "    __repr__ = __str__\n",
    "\n",
    "    def __cmp__(self, s):\n",
    "        if self.score==s.score:\n",
    "            return cmp(self.name,s.name)\n",
    "        return -cmp(self.score,s.score)\n",
    "\n",
    "L = [Student('Tim', 99), Student('Bob', 88), Student('Alice', 99)]\n",
    "print sorted(L)"
   ]
  },
  {
   "cell_type": "code",
   "execution_count": 13,
   "metadata": {},
   "outputs": [
    {
     "name": "stdout",
     "output_type": "stream",
     "text": [
      "[0, 1, 1, 2, 3, 5, 8, 13, 21, 34, 55, 89, 144, 233, 377, 610, 987, 1597, 2584, 4181, 6765, 10946, 17711, 28657, 46368, 75025, 121393, 196418, 317811, 514229]\n",
      "30\n"
     ]
    }
   ],
   "source": [
    "# 如果一个类表现得像一个list，要获取有多少个元素，就得用 len() 函数。\n",
    "# 要让 len() 函数工作正常，类必须提供一个特殊方法__len__()，它返回元素的个数。\n",
    "class Fib(object):\n",
    "\n",
    "    def __init__(self, num):\n",
    "        x,y,L=0,1,[]\n",
    "        for n in range(num):\n",
    "            L.append(x)\n",
    "            x,y=y,x+y\n",
    "        self.numbers=L\n",
    "\n",
    "    def __str__(self):\n",
    "        return str(self.numbers)\n",
    "        \n",
    "    __repr__=__str__\n",
    "    \n",
    "    def __len__(self):\n",
    "        return len(self.numbers)\n",
    "\n",
    "f = Fib(30)\n",
    "print f\n",
    "#__len__()输出list的长度\n",
    "print len(f)"
   ]
  },
  {
   "cell_type": "code",
   "execution_count": 22,
   "metadata": {},
   "outputs": [
    {
     "name": "stdout",
     "output_type": "stream",
     "text": [
      "3/4\n",
      "1/4\n",
      "1/8\n",
      "2/1\n"
     ]
    }
   ],
   "source": [
    "#最小公倍数\n",
    "def gcd(a, b):\n",
    "    if b == 0:\n",
    "        return a\n",
    "    return gcd(b, a % b)\n",
    "    \n",
    "class Rational(object):\n",
    "    def __init__(self, p, q):\n",
    "        self.p = p\n",
    "        self.q = q\n",
    "    def __add__(self, r):\n",
    "        return Rational(self.p * r.q + self.q * r.p, self.q * r.q)\n",
    "    def __sub__(self, r):\n",
    "        return Rational(self.p * r.q - self.q * r.p, self.q * r.q)\n",
    "    def __mul__(self, r):\n",
    "        return Rational(self.p * r.p , self.q * r.q)\n",
    "    def __div__(self, r):\n",
    "        return Rational(self.p * r.q , self.q * r.p)\n",
    "    def __str__(self):\n",
    "        g = gcd(self.p, self.q)\n",
    "        return \"%s/%s\" % (self.p/g,self.q/g)\n",
    "\n",
    "    __repr__ = __str__\n",
    "\n",
    "r1 = Rational(1, 2)\n",
    "r2 = Rational(1, 4)\n",
    "print r1 + r2\n",
    "print r1 - r2\n",
    "print r1 * r2\n",
    "print r1 / r2"
   ]
  },
  {
   "cell_type": "code",
   "execution_count": 24,
   "metadata": {},
   "outputs": [
    {
     "name": "stdout",
     "output_type": "stream",
     "text": [
      "3.5\n",
      "0.333333333333\n"
     ]
    }
   ],
   "source": [
    "class Rational(object):\n",
    "    def __init__(self, p, q):\n",
    "        self.p = p\n",
    "        self.q = q\n",
    "\n",
    "    def __int__(self):\n",
    "        return self.p // self.q\n",
    "\n",
    "    def __float__(self):\n",
    "        return float(self.p) / self.q\n",
    "\n",
    "print float(Rational(7, 2))\n",
    "print float(Rational(1, 3))"
   ]
  },
  {
   "cell_type": "code",
   "execution_count": 27,
   "metadata": {},
   "outputs": [
    {
     "name": "stdout",
     "output_type": "stream",
     "text": [
      "C\n"
     ]
    }
   ],
   "source": [
    "# 因为Python支持高阶函数，在函数式编程中我们介绍了装饰器函数，可以用装饰器函数把 get/set 方法“装饰”成属性调用：\n",
    "# 第一个score(self)是get方法，用@property装饰，第二个score(self, score)是set方法，用@score.setter装饰，@score.setter是前一个@property装饰后的副产品。\n",
    "# 说明对 score 赋值实际调用的是 set方法。\n",
    "\n",
    "class Student(object):\n",
    "\n",
    "    def __init__(self, name, score):\n",
    "        self.name = name\n",
    "        self.__score = score\n",
    "\n",
    "    @property\n",
    "    def score(self):\n",
    "        return self.__score\n",
    "\n",
    "    @score.setter\n",
    "    def score(self, score):\n",
    "        if score < 0 or score > 100:\n",
    "            raise ValueError('invalid score')\n",
    "        self.__score = score\n",
    "    \n",
    "    @property\n",
    "    def grade(self):\n",
    "        if self.score < 60:\n",
    "            return 'C'\n",
    "        if self.score < 80:\n",
    "            return 'B'\n",
    "        return 'A'\n",
    "\n",
    "s = Student('Bob', 59)\n",
    "print s.grade"
   ]
  },
  {
   "cell_type": "code",
   "execution_count": 29,
   "metadata": {},
   "outputs": [
    {
     "name": "stdout",
     "output_type": "stream",
     "text": [
      "99\n"
     ]
    }
   ],
   "source": [
    "# 由于Python是动态语言，任何实例在运行期都可以动态地添加属性。\n",
    "# 如果要限制添加的属性，例如，Student类只允许添加 name、gender和score 这3个属性，就可以利用Python的一个特殊的__slots__来实现。\n",
    "# 顾名思义，__slots__是指一个类允许的属性列表：\n",
    "# __slots__的目的是限制当前类所能拥有的属性，如果不需要添加任意动态的属性，使用__slots__也能节省内存。\n",
    "\n",
    "class Person(object):\n",
    "\n",
    "    __slots__ = ('name', 'gender')\n",
    "\n",
    "    def __init__(self, name, gender):\n",
    "        self.name = name\n",
    "        self.gender = gender\n",
    "\n",
    "class Student(Person):\n",
    "\n",
    "    __slots__ = ('score')\n",
    "\n",
    "    def __init__(self, name, gender,score):\n",
    "        super(Student, self).__init__(name, gender)\n",
    "        self.score = score\n",
    "\n",
    "s = Student('Bob', 'male', 59)\n",
    "s.name = 'Tim'\n",
    "s.score = 99\n",
    "print s.score"
   ]
  },
  {
   "cell_type": "code",
   "execution_count": 1,
   "metadata": {},
   "outputs": [
    {
     "name": "stdout",
     "output_type": "stream",
     "text": [
      "[0, 1, 1, 2, 3, 5, 8, 13, 21, 34]\n"
     ]
    }
   ],
   "source": [
    "# 在Python中，函数其实是一个对象：\n",
    "# 所有的函数都是可调用对象。\n",
    "\n",
    "# 一个类实例也可以变成一个可调用对象，只需要实现一个特殊方法__call__()。\n",
    "# 单看 p('Tim') 你无法确定 p 是一个函数还是一个类实例，所以，在Python中，函数也是对象，对象和函数的区别并不显著。\n",
    "\n",
    "\n",
    "class Fib(object):\n",
    "        \n",
    "    def __call__(self,num):\n",
    "        x,y,L=0,1,[]\n",
    "        for n in range(num):\n",
    "            L.append(x)\n",
    "            x,y=y,x+y\n",
    "        return L\n",
    "f = Fib()\n",
    "print f(10)"
   ]
  }
 ],
 "metadata": {
  "kernelspec": {
   "display_name": "Python 2",
   "language": "python",
   "name": "python2"
  },
  "language_info": {
   "codemirror_mode": {
    "name": "ipython",
    "version": 2
   },
   "file_extension": ".py",
   "mimetype": "text/x-python",
   "name": "python",
   "nbconvert_exporter": "python",
   "pygments_lexer": "ipython2",
   "version": "2.7.13"
  }
 },
 "nbformat": 4,
 "nbformat_minor": 2
}
