{
 "cells": [
  {
   "cell_type": "code",
   "execution_count": 5,
   "metadata": {
    "collapsed": true
   },
   "outputs": [],
   "source": [
    "# LeetCode Q11-Container With Most Water\n",
    "# Given n non-negative integers a1, a2, ..., an, where each represents a point at coordinate (i, ai). n vertical lines are drawn such that the two endpoints of line i is at (i, ai) and (i, 0). Find two lines, which together with x-axis forms a container, such that the container contains the most water.\n",
    "# Note: You may not slant the container and n is at least 2.\n",
    "\n",
    "# def maxArea(self, height):\n",
    "#     L, R, width, res = 0, len(height) - 1, len(height) - 1, 0\n",
    "#     for w in range(width, 0, -1):\n",
    "#         if height[L] < height[R]:\n",
    "#             res, L = max(res, height[L] * w), L + 1\n",
    "#         else:\n",
    "#             res, R = max(res, height[R] * w), R - 1\n",
    "#     return res\n",
    "\n",
    "def maxArea(self, height):\n",
    "        res, l, r = 0, 0, len(height) - 1\n",
    "        while l < r:\n",
    "            h = min(height[l], height[r])\n",
    "            res, l, r = max(res,  h * (r - l)), l + (height[l] == h), r - (height[r] == h)\n",
    "        return res"
   ]
  },
  {
   "cell_type": "code",
   "execution_count": 11,
   "metadata": {},
   "outputs": [],
   "source": [
    "# LeetCode Q12-Integer to Roman\n",
    "# Given an integer, convert it to a roman numeral.\n",
    "# Input is guaranteed to be within the range from 1 to 3999.\n",
    "\n",
    "class Solution(object):\n",
    "    def intToRoman(self, num):\n",
    "        M = [\"\", \"M\", \"MM\", \"MMM\"];\n",
    "        C = [\"\", \"C\", \"CC\", \"CCC\", \"CD\", \"D\", \"DC\", \"DCC\", \"DCCC\", \"CM\"];\n",
    "        X = [\"\", \"X\", \"XX\", \"XXX\", \"XL\", \"L\", \"LX\", \"LXX\", \"LXXX\", \"XC\"];\n",
    "        I = [\"\", \"I\", \"II\", \"III\", \"IV\", \"V\", \"VI\", \"VII\", \"VIII\", \"IX\"];\n",
    "        return M[num/1000] + C[(num%1000)/100] + X[(num%100)/10] + I[num%10];"
   ]
  },
  {
   "cell_type": "code",
   "execution_count": 21,
   "metadata": {},
   "outputs": [],
   "source": [
    "# LeetCode Q13-Roman to Integer\n",
    "# Given a roman numeral, convert it to an integer.\n",
    "# Input is guaranteed to be within the range from 1 to 3999.\n",
    "\n",
    "class Solution(object):\n",
    "    # @param {string} s\n",
    "    # @return {integer}\n",
    "    def romanToInt(self, s):\n",
    "        roman = {'M': 1000,'D': 500 ,'C': 100,'L': 50,'X': 10,'V': 5,'I': 1}\n",
    "        z = 0\n",
    "        for i in range(0, len(s) - 1):\n",
    "            if roman[s[i]] < roman[s[i+1]]:\n",
    "                z -= roman[s[i]]\n",
    "            else:\n",
    "                z += roman[s[i]]\n",
    "        return z + roman[s[-1]]"
   ]
  },
  {
   "cell_type": "code",
   "execution_count": 22,
   "metadata": {
    "collapsed": true
   },
   "outputs": [],
   "source": [
    "# LeetCode Q14-Longest Common Prefix\n",
    "# Write a function to find the longest common prefix string amongst an array of strings.\n",
    "\n",
    "class Solution(object):\n",
    "    # @return a string\n",
    "    def longestCommonPrefix(self, strs):\n",
    "        if not strs:\n",
    "            return \"\"\n",
    "        for i, letter_group in enumerate(zip(*strs)):\n",
    "            if len(set(letter_group)) > 1:\n",
    "                return strs[0][:i]\n",
    "        else:\n",
    "            return min(strs)"
   ]
  },
  {
   "cell_type": "code",
   "execution_count": null,
   "metadata": {
    "collapsed": true
   },
   "outputs": [],
   "source": [
    "# LeetCode Q15-3Sum\n",
    "# Given an array S of n integers, are there elements a, b, c in S such that a + b + c = 0? Find all unique triplets in the array which gives the sum of zero.\n",
    "\n",
    "class Solution(object):\n",
    "    def threeSum(self, nums):\n",
    "        res = []\n",
    "        nums.sort()\n",
    "        for i in xrange(len(nums)-2):\n",
    "            if i > 0 and nums[i] == nums[i-1]:\n",
    "                continue\n",
    "            l, r = i+1, len(nums)-1\n",
    "            while l < r:\n",
    "                s = nums[i] + nums[l] + nums[r]\n",
    "                if s < 0:\n",
    "                    l +=1 \n",
    "                elif s > 0:\n",
    "                    r -= 1\n",
    "                else:\n",
    "                    res.append((nums[i], nums[l], nums[r]))\n",
    "                    while l < r and nums[l] == nums[l+1]:\n",
    "                        l += 1\n",
    "                    while l < r and nums[r] == nums[r-1]:\n",
    "                        r -= 1\n",
    "                    l += 1; r -= 1\n",
    "        return res"
   ]
  },
  {
   "cell_type": "code",
   "execution_count": 23,
   "metadata": {
    "collapsed": true
   },
   "outputs": [],
   "source": [
    "# LeetCode Q16-3Sum Closest\n",
    "# Given an array S of n integers, find three integers in S such that the sum is closest to a given number, target. Return the sum of the three integers. You may assume that each input would have exactly one solution.\n",
    "#     For example, given array S = {-1 2 1 -4}, and target = 1.\n",
    "#     The sum that is closest to the target is 2. (-1 + 2 + 1 = 2).\n",
    "\n",
    "class Solution(object):\n",
    "    # @return an integer\n",
    "    def threeSumClosest(self, num, target):\n",
    "        num.sort()\n",
    "        result = num[0] + num[1] + num[2]\n",
    "        for i in range(len(num) - 2):\n",
    "            j, k = i+1, len(num) - 1\n",
    "            while j < k:\n",
    "                sum = num[i] + num[j] + num[k]\n",
    "                if sum == target:\n",
    "                    return sum\n",
    "                if abs(sum - target) < abs(result - target):\n",
    "                    result = sum\n",
    "                if sum < target:\n",
    "                    j += 1\n",
    "                elif sum > target:\n",
    "                    k -= 1\n",
    "        return result"
   ]
  },
  {
   "cell_type": "code",
   "execution_count": 24,
   "metadata": {
    "collapsed": true
   },
   "outputs": [],
   "source": [
    "# LeetCode Q17-Letter Combinations of a Phone Number\n",
    "# Given a digit string, return all possible letter combinations that the number could represent.\n",
    "# A mapping of digit to letters (just like on the telephone buttons) is given below.\n",
    "# Input:Digit string \"23\"\n",
    "# Output: [\"ad\", \"ae\", \"af\", \"bd\", \"be\", \"bf\", \"cd\", \"ce\", \"cf\"].\n",
    "\n",
    "class Solution(object):\n",
    "    # @return a list of strings, [s1, s2]\n",
    "    def letterCombinations(self, digits):\n",
    "        if '' == digits: return []\n",
    "        kvmaps = {\n",
    "            '2': 'abc',\n",
    "            '3': 'def',\n",
    "            '4': 'ghi',\n",
    "            '5': 'jkl',\n",
    "            '6': 'mno',\n",
    "            '7': 'pqrs',\n",
    "            '8': 'tuv',\n",
    "            '9': 'wxyz'\n",
    "        }\n",
    "        return reduce(lambda acc, digit: [x + y for x in acc for y in kvmaps[digit]], digits, [''])"
   ]
  },
  {
   "cell_type": "code",
   "execution_count": 25,
   "metadata": {
    "collapsed": true
   },
   "outputs": [],
   "source": [
    "# LeetCode Q18-4Sum\n",
    "# Given an array S of n integers, are there elements a, b, c, and d in S such that a + b + c + d = target? Find all unique quadruplets in the array which gives the sum of target.\n",
    "\n",
    "class Solution(object):\n",
    "    def fourSum(self, nums, target):\n",
    "        def findNsum(nums, target, N, result, results):\n",
    "            if len(nums) < N or N < 2 or target < nums[0]*N or target > nums[-1]*N:  # early termination\n",
    "                return\n",
    "            if N == 2: # two pointers solve sorted 2-sum problem\n",
    "                l,r = 0,len(nums)-1\n",
    "                while l < r:\n",
    "                    s = nums[l] + nums[r]\n",
    "                    if s == target:\n",
    "                        results.append(result + [nums[l], nums[r]])\n",
    "                        l += 1\n",
    "                        while l < r and nums[l] == nums[l-1]:\n",
    "                            l += 1\n",
    "                    elif s < target:\n",
    "                        l += 1\n",
    "                    else:\n",
    "                        r -= 1\n",
    "            else: # recursively reduce N\n",
    "                for i in range(len(nums)-N+1):\n",
    "                    if i == 0 or (i > 0 and nums[i-1] != nums[i]):\n",
    "                        findNsum(nums[i+1:], target-nums[i], N-1, result+[nums[i]], results)\n",
    "        results = []\n",
    "        findNsum(sorted(nums), target, 4, [], results)\n",
    "        return results"
   ]
  },
  {
   "cell_type": "code",
   "execution_count": 27,
   "metadata": {
    "collapsed": true
   },
   "outputs": [],
   "source": [
    "# LeetCode Q19-Remove Nth Node From End of List\n",
    "# Given a linked list, remove the nth node from the end of list and return its head.\n",
    "# For example,\n",
    "#    Given linked list: 1->2->3->4->5, and n = 2.\n",
    "#    After removing the second node from the end, the linked list becomes 1->2->3->5.\n",
    "\n",
    "# Definition for singly-linked list.\n",
    "# class ListNode(object):\n",
    "#     def __init__(self, x):\n",
    "#         self.val = x\n",
    "#         self.next = None\n",
    "class Solution(object):\n",
    "    def removeNthFromEnd(self, head, n):\n",
    "        fast = slow = head\n",
    "        for _ in range(n):\n",
    "            fast = fast.next\n",
    "        if not fast:\n",
    "            return head.next\n",
    "        while fast.next:\n",
    "            fast = fast.next\n",
    "            slow = slow.next\n",
    "        slow.next = slow.next.next\n",
    "        return head"
   ]
  },
  {
   "cell_type": "code",
   "execution_count": 28,
   "metadata": {
    "collapsed": true
   },
   "outputs": [],
   "source": [
    "# LeetCode Q20-Valid Parentheses\n",
    "# Given a string containing just the characters '(', ')', '{', '}', '[' and ']', determine if the input string is valid.\n",
    "# The brackets must close in the correct order, \"()\" and \"()[]{}\" are all valid but \"(]\" and \"([)]\" are not.\n",
    "\n",
    "class Solution(object):\n",
    "    # @return a boolean\n",
    "    def isValid(self, s):\n",
    "        stack = []\n",
    "        dict = {\"]\":\"[\", \"}\":\"{\", \")\":\"(\"}\n",
    "        for char in s:\n",
    "            if char in dict.values():\n",
    "                stack.append(char)\n",
    "            elif char in dict.keys():\n",
    "                if stack == [] or dict[char] != stack.pop():\n",
    "                    return False\n",
    "            else:\n",
    "                return False\n",
    "        return stack == []"
   ]
  }
 ],
 "metadata": {
  "kernelspec": {
   "display_name": "Python 2",
   "language": "python",
   "name": "python2"
  },
  "language_info": {
   "codemirror_mode": {
    "name": "ipython",
    "version": 2
   },
   "file_extension": ".py",
   "mimetype": "text/x-python",
   "name": "python",
   "nbconvert_exporter": "python",
   "pygments_lexer": "ipython2",
   "version": "2.7.13"
  }
 },
 "nbformat": 4,
 "nbformat_minor": 2
}
