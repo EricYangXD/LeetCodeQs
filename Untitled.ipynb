{
 "cells": [
  {
   "cell_type": "markdown",
   "metadata": {},
   "source": [
    "### Python文件操作###"
   ]
  },
  {
   "cell_type": "code",
   "execution_count": 3,
   "metadata": {
    "collapsed": true
   },
   "outputs": [],
   "source": [
    "# 文件打开方法 open(name,mode[buf]) name:文件名， mode:打开方式， buf:缓冲buffing大小\n",
    "\n",
    "# r 只读 r+ 读写 文件必须存在\n",
    "# w 只写 w+ 读写 文件不存在就创建新文件，若存在就清空原文件重新写入\n",
    "# a 追加方式打开 a+ 追加和读写方式打开 文件不存在就创建新文件\n",
    "# rb wb ab rb+ wb+ ab+ 二进制方式打开\n",
    "\n",
    "#文件读取方式 read([size])  size:读取的字节数\n",
    "#文件读取方式 readline([size])\n",
    "#文件读取方式 readlines([size]) 不推荐读取大文件\n",
    "# iter() 迭代器，可以读取比较大的文件，大小超过缓冲buf的文件\n",
    "\n",
    "#文件写入方式 write(size) 写入字符串到文件\n",
    "#文件写入方式 writelines(sequence_of_strings) 写入多行\n"
   ]
  },
  {
   "cell_type": "code",
   "execution_count": 24,
   "metadata": {},
   "outputs": [
    {
     "name": "stdout",
     "output_type": "stream",
     "text": [
      "<type 'file'>\n"
     ]
    }
   ],
   "source": [
    "openFile=open('leetcode17.ipynb')\n",
    "print(type(openFile))\n",
    "leetcode17=openFile.read()\n",
    "# leetcode17\n",
    "# cat leetcode17.ipynb\n",
    "# File=open()\n",
    "File=open(\"leetcode18.py\",\"w+\")\n",
    "\n"
   ]
  },
  {
   "cell_type": "code",
   "execution_count": null,
   "metadata": {
    "collapsed": true
   },
   "outputs": [],
   "source": [
    "# http://service.weibo.com/share/share.php?title=%23%E5%BF%85%E5%BA%94%E7%BE%8E%E5%9B%BE%23%E5%B7%B4%E7%89%B9%E8%8E%B1%E5%85%8B%E7%9F%BF%E5%9C%BA%E4%BD%8D%E4%BA%8E%E8%8B%B1%E6%A0%BC%E5%85%B0%E8%A5%BF%E5%8D%97%E9%83%A8%EF%BC%8C%E5%AE%83%E6%98%AF%E8%8B%B1%E5%9B%BD%E2%80%9C%E9%94%A1%E6%B5%B7%E5%B2%B8%E2%80%9D%E7%9A%84%E4%B8%80%E9%83%A8%E5%88%86%EF%BC%8C%E6%9B%BE%E7%BB%8F%E6%98%AF%E4%B8%80%E5%A4%84%E6%B5%B7%E5%BA%95%E7%9F%BF%E4%BA%95%EF%BC%8C%E5%9C%B0%E4%B8%8B%E6%B7%B1%E5%A4%84%E6%9C%89%E9%9A%A7%E9%81%93%EF%BC%8C%E7%9F%BF%E5%B7%A5%E4%BB%AC%E5%9C%A8%E8%BF%99%E9%87%8C%E5%8F%AF%E4%BB%A5%E9%87%87%E9%9B%86%E5%88%B0%E9%94%A1%E3%80%81%E7%A0%B7%E5%92%8C%E9%93%9C%E3%80%821895%E5%B9%B4%E9%87%87%E7%9F%BF%E8%A2%AB%E4%B8%AD%E6%96%AD%EF%BC%8C%E4%BD%86%E6%82%AC%E5%B4%96%E4%BD%9C%E4%B8%BA%E5%BA%B7%E6%B2%83%E5%B0%94%E9%83%A1%E5%92%8C%E8%A5%BF%E5%BE%B7%E6%96%87%E9%83%A1%E7%9F%BF%E5%8C%BA%E7%9A%84%E4%B8%80%E9%83%A8%E5%88%86%E8%A2%AB%E4%BF%9D%E6%8A%A4%E4%BA%86%E8%B5%B7%E6%9D%A5%EF%BC%8C%E5%B9%B6%E6%88%90%E4%B8%BA%E6%95%99%E7%A7%91%E6%96%87%E7%BB%84%E7%BB%87%E5%85%AC%E8%AE%A4%E7%9A%84%E4%B8%96%E7%95%8C%E9%81%97%E4%BA%A7%E3%80%82&placeholder=%E5%BF%85%E5%BA%94%E7%BE%8E%E5%9B%BE&url=http%3A%2F%2Fcn.bing.com%2F%3Fform%3DHPSWCN&pic=https%3A%2F%2Fhpimges.blob.core.chinacloudapi.cn%2Fcoverstory%2Fwatermark_batearedfox_zh-cn12456670113_1920x1080.jpg#_loginLayer_1503905576471"
   ]
  },
  {
   "cell_type": "code",
   "execution_count": 36,
   "metadata": {},
   "outputs": [
    {
     "ename": "IOError",
     "evalue": "[Errno 0] Error",
     "output_type": "error",
     "traceback": [
      "\u001b[1;31m---------------------------------------------------------------------------\u001b[0m",
      "\u001b[1;31mIOError\u001b[0m                                   Traceback (most recent call last)",
      "\u001b[1;32m<ipython-input-36-8d626a8e145e>\u001b[0m in \u001b[0;36m<module>\u001b[1;34m()\u001b[0m\n\u001b[0;32m      3\u001b[0m \u001b[1;31m# cat weibo.txt\u001b[0m\u001b[1;33m\u001b[0m\u001b[1;33m\u001b[0m\u001b[0m\n\u001b[0;32m      4\u001b[0m \u001b[1;33m\u001b[0m\u001b[0m\n\u001b[1;32m----> 5\u001b[1;33m \u001b[0mf\u001b[0m\u001b[1;33m.\u001b[0m\u001b[0mwrite\u001b[0m\u001b[1;33m(\u001b[0m\u001b[1;34m\"test write\"\u001b[0m\u001b[1;33m)\u001b[0m\u001b[1;33m\u001b[0m\u001b[0m\n\u001b[0m",
      "\u001b[1;31mIOError\u001b[0m: [Errno 0] Error"
     ]
    }
   ],
   "source": [
    "f=open('weibo.txt','w+')\n",
    "f.readline()\n",
    "# cat weibo.txt\n",
    "\n",
    "f.write(\"test write\")\n"
   ]
  },
  {
   "cell_type": "code",
   "execution_count": null,
   "metadata": {
    "collapsed": true
   },
   "outputs": [],
   "source": []
  },
  {
   "cell_type": "code",
   "execution_count": null,
   "metadata": {
    "collapsed": true
   },
   "outputs": [],
   "source": []
  }
 ],
 "metadata": {
  "kernelspec": {
   "display_name": "Python 2",
   "language": "python",
   "name": "python2"
  },
  "language_info": {
   "codemirror_mode": {
    "name": "ipython",
    "version": 2
   },
   "file_extension": ".py",
   "mimetype": "text/x-python",
   "name": "python",
   "nbconvert_exporter": "python",
   "pygments_lexer": "ipython2",
   "version": "2.7.13"
  }
 },
 "nbformat": 4,
 "nbformat_minor": 2
}
